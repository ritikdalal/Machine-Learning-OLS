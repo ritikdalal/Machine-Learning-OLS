{
 "cells": [
  {
   "cell_type": "code",
   "execution_count": 2,
   "id": "bbe4ae92-9b50-4d39-bd89-559866e6574e",
   "metadata": {},
   "outputs": [],
   "source": [
    "import pandas as pd\n",
    "import numpy as np\n",
    "import seaborn as sns\n",
    "import matplotlib.pyplot as plt\n",
    "import warnings \n",
    "warnings.filterwarnings(\"ignore\")\n",
    "\n",
    "\n",
    "premium = pd.DataFrame({\"Mileage\":[15,14,17,10,7,20,21,18,\n",
    "                         11,7.9,8.6,12.3,17.1,19.4],\n",
    "             \"Premium\":[392.5,46.2,15.7,422.2,119.4,170.9,56.9,\n",
    "                        77.5,214,65.3,250,220,217.5,140.88]})"
   ]
  },
  {
   "cell_type": "code",
   "execution_count": 4,
   "id": "20ff8c2e-10b4-42f7-9c2c-5bc5f2ae3c7d",
   "metadata": {},
   "outputs": [
    {
     "data": {
      "text/html": [
       "<div>\n",
       "<style scoped>\n",
       "    .dataframe tbody tr th:only-of-type {\n",
       "        vertical-align: middle;\n",
       "    }\n",
       "\n",
       "    .dataframe tbody tr th {\n",
       "        vertical-align: top;\n",
       "    }\n",
       "\n",
       "    .dataframe thead th {\n",
       "        text-align: right;\n",
       "    }\n",
       "</style>\n",
       "<table border=\"1\" class=\"dataframe\">\n",
       "  <thead>\n",
       "    <tr style=\"text-align: right;\">\n",
       "      <th></th>\n",
       "      <th>Mileage</th>\n",
       "      <th>Premium</th>\n",
       "    </tr>\n",
       "  </thead>\n",
       "  <tbody>\n",
       "    <tr>\n",
       "      <th>0</th>\n",
       "      <td>15.0</td>\n",
       "      <td>392.5</td>\n",
       "    </tr>\n",
       "    <tr>\n",
       "      <th>1</th>\n",
       "      <td>14.0</td>\n",
       "      <td>46.2</td>\n",
       "    </tr>\n",
       "    <tr>\n",
       "      <th>2</th>\n",
       "      <td>17.0</td>\n",
       "      <td>15.7</td>\n",
       "    </tr>\n",
       "    <tr>\n",
       "      <th>3</th>\n",
       "      <td>10.0</td>\n",
       "      <td>422.2</td>\n",
       "    </tr>\n",
       "    <tr>\n",
       "      <th>4</th>\n",
       "      <td>7.0</td>\n",
       "      <td>119.4</td>\n",
       "    </tr>\n",
       "  </tbody>\n",
       "</table>\n",
       "</div>"
      ],
      "text/plain": [
       "   Mileage  Premium\n",
       "0     15.0    392.5\n",
       "1     14.0     46.2\n",
       "2     17.0     15.7\n",
       "3     10.0    422.2\n",
       "4      7.0    119.4"
      ]
     },
     "execution_count": 4,
     "metadata": {},
     "output_type": "execute_result"
    }
   ],
   "source": [
    "premium.head()"
   ]
  },
  {
   "cell_type": "code",
   "execution_count": 8,
   "id": "3ec51eb2-1906-4a28-882a-848a89af349f",
   "metadata": {},
   "outputs": [
    {
     "data": {
      "image/png": "[encoded data removed]",
      "text/plain": [
       "<Figure size 640x480 with 1 Axes>"
      ]
     },
     "metadata": {},
     "output_type": "display_data"
    }
   ],
   "source": [
    "sns.scatterplot(x=\"Mileage\",y=\"Premium\",data=premium,color=\"blue\")\n",
    "plt.show()"
   ]
  },
  {
   "cell_type": "code",
   "execution_count": 10,
   "id": "3f303628-8b63-4511-86cb-69d357db9668",
   "metadata": {},
   "outputs": [
    {
     "data": {
      "text/html": [
       "<table class=\"simpletable\">\n",
       "<caption>OLS Regression Results</caption>\n",
       "<tr>\n",
       "  <th>Dep. Variable:</th>         <td>Premium</td>     <th>  R-squared:         </th> <td>   0.073</td>\n",
       "</tr>\n",
       "<tr>\n",
       "  <th>Model:</th>                   <td>OLS</td>       <th>  Adj. R-squared:    </th> <td>  -0.004</td>\n",
       "</tr>\n",
       "<tr>\n",
       "  <th>Method:</th>             <td>Least Squares</td>  <th>  F-statistic:       </th> <td>  0.9491</td>\n",
       "</tr>\n",
       "<tr>\n",
       "  <th>Date:</th>             <td>Fri, 27 Dec 2024</td> <th>  Prob (F-statistic):</th>  <td> 0.349</td> \n",
       "</tr>\n",
       "<tr>\n",
       "  <th>Time:</th>                 <td>11:19:20</td>     <th>  Log-Likelihood:    </th> <td> -86.336</td>\n",
       "</tr>\n",
       "<tr>\n",
       "  <th>No. Observations:</th>      <td>    14</td>      <th>  AIC:               </th> <td>   176.7</td>\n",
       "</tr>\n",
       "<tr>\n",
       "  <th>Df Residuals:</th>          <td>    12</td>      <th>  BIC:               </th> <td>   178.0</td>\n",
       "</tr>\n",
       "<tr>\n",
       "  <th>Df Model:</th>              <td>     1</td>      <th>                     </th>     <td> </td>   \n",
       "</tr>\n",
       "<tr>\n",
       "  <th>Covariance Type:</th>      <td>nonrobust</td>    <th>                     </th>     <td> </td>   \n",
       "</tr>\n",
       "</table>\n",
       "<table class=\"simpletable\">\n",
       "<tr>\n",
       "      <td></td>         <th>coef</th>     <th>std err</th>      <th>t</th>      <th>P>|t|</th>  <th>[0.025</th>    <th>0.975]</th>  \n",
       "</tr>\n",
       "<tr>\n",
       "  <th>Intercept</th> <td>  272.5667</td> <td>  108.397</td> <td>    2.515</td> <td> 0.027</td> <td>   36.390</td> <td>  508.743</td>\n",
       "</tr>\n",
       "<tr>\n",
       "  <th>Mileage</th>   <td>   -7.0951</td> <td>    7.283</td> <td>   -0.974</td> <td> 0.349</td> <td>  -22.963</td> <td>    8.773</td>\n",
       "</tr>\n",
       "</table>\n",
       "<table class=\"simpletable\">\n",
       "<tr>\n",
       "  <th>Omnibus:</th>       <td> 1.406</td> <th>  Durbin-Watson:     </th> <td>   2.506</td>\n",
       "</tr>\n",
       "<tr>\n",
       "  <th>Prob(Omnibus):</th> <td> 0.495</td> <th>  Jarque-Bera (JB):  </th> <td>   0.982</td>\n",
       "</tr>\n",
       "<tr>\n",
       "  <th>Skew:</th>          <td> 0.607</td> <th>  Prob(JB):          </th> <td>   0.612</td>\n",
       "</tr>\n",
       "<tr>\n",
       "  <th>Kurtosis:</th>      <td> 2.543</td> <th>  Cond. No.          </th> <td>    48.7</td>\n",
       "</tr>\n",
       "</table><br/><br/>Notes:<br/>[1] Standard Errors assume that the covariance matrix of the errors is correctly specified."
      ],
      "text/latex": [
       "\\begin{center}\n",
       "\\begin{tabular}{lclc}\n",
       "\\toprule\n",
       "\\textbf{Dep. Variable:}    &     Premium      & \\textbf{  R-squared:         } &     0.073   \\\\\n",
       "\\textbf{Model:}            &       OLS        & \\textbf{  Adj. R-squared:    } &    -0.004   \\\\\n",
       "\\textbf{Method:}           &  Least Squares   & \\textbf{  F-statistic:       } &    0.9491   \\\\\n",
       "\\textbf{Date:}             & Fri, 27 Dec 2024 & \\textbf{  Prob (F-statistic):} &    0.349    \\\\\n",
       "\\textbf{Time:}             &     11:19:20     & \\textbf{  Log-Likelihood:    } &   -86.336   \\\\\n",
       "\\textbf{No. Observations:} &          14      & \\textbf{  AIC:               } &     176.7   \\\\\n",
       "\\textbf{Df Residuals:}     &          12      & \\textbf{  BIC:               } &     178.0   \\\\\n",
       "\\textbf{Df Model:}         &           1      & \\textbf{                     } &             \\\\\n",
       "\\textbf{Covariance Type:}  &    nonrobust     & \\textbf{                     } &             \\\\\n",
       "\\bottomrule\n",
       "\\end{tabular}\n",
       "\\begin{tabular}{lcccccc}\n",
       "                   & \\textbf{coef} & \\textbf{std err} & \\textbf{t} & \\textbf{P$> |$t$|$} & \\textbf{[0.025} & \\textbf{0.975]}  \\\\\n",
       "\\midrule\n",
       "\\textbf{Intercept} &     272.5667  &      108.397     &     2.515  &         0.027        &       36.390    &      508.743     \\\\\n",
       "\\textbf{Mileage}   &      -7.0951  &        7.283     &    -0.974  &         0.349        &      -22.963    &        8.773     \\\\\n",
       "\\bottomrule\n",
       "\\end{tabular}\n",
       "\\begin{tabular}{lclc}\n",
       "\\textbf{Omnibus:}       &  1.406 & \\textbf{  Durbin-Watson:     } &    2.506  \\\\\n",
       "\\textbf{Prob(Omnibus):} &  0.495 & \\textbf{  Jarque-Bera (JB):  } &    0.982  \\\\\n",
       "\\textbf{Skew:}          &  0.607 & \\textbf{  Prob(JB):          } &    0.612  \\\\\n",
       "\\textbf{Kurtosis:}      &  2.543 & \\textbf{  Cond. No.          } &     48.7  \\\\\n",
       "\\bottomrule\n",
       "\\end{tabular}\n",
       "%\\caption{OLS Regression Results}\n",
       "\\end{center}\n",
       "\n",
       "Notes: \\newline\n",
       " [1] Standard Errors assume that the covariance matrix of the errors is correctly specified."
      ],
      "text/plain": [
       "<class 'statsmodels.iolib.summary.Summary'>\n",
       "\"\"\"\n",
       "                            OLS Regression Results                            \n",
       "==============================================================================\n",
       "Dep. Variable:                Premium   R-squared:                       0.073\n",
       "Model:                            OLS   Adj. R-squared:                 -0.004\n",
       "Method:                 Least Squares   F-statistic:                    0.9491\n",
       "Date:                Fri, 27 Dec 2024   Prob (F-statistic):              0.349\n",
       "Time:                        11:19:20   Log-Likelihood:                -86.336\n",
       "No. Observations:                  14   AIC:                             176.7\n",
       "Df Residuals:                      12   BIC:                             178.0\n",
       "Df Model:                           1                                         \n",
       "Covariance Type:            nonrobust                                         \n",
       "==============================================================================\n",
       "                 coef    std err          t      P>|t|      [0.025      0.975]\n",
       "------------------------------------------------------------------------------\n",
       "Intercept    272.5667    108.397      2.515      0.027      36.390     508.743\n",
       "Mileage       -7.0951      7.283     -0.974      0.349     -22.963       8.773\n",
       "==============================================================================\n",
       "Omnibus:                        1.406   Durbin-Watson:                   2.506\n",
       "Prob(Omnibus):                  0.495   Jarque-Bera (JB):                0.982\n",
       "Skew:                           0.607   Prob(JB):                        0.612\n",
       "Kurtosis:                       2.543   Cond. No.                         48.7\n",
       "==============================================================================\n",
       "\n",
       "Notes:\n",
       "[1] Standard Errors assume that the covariance matrix of the errors is correctly specified.\n",
       "\"\"\""
      ]
     },
     "execution_count": 10,
     "metadata": {},
     "output_type": "execute_result"
    }
   ],
   "source": [
    "import statsmodels.formula.api as sfa\n",
    "model= sfa.ols(\"Premium~Mileage\", data=premium).fit()\n",
    "model.summary()"
   ]
  },
  {
   "cell_type": "code",
   "execution_count": 12,
   "id": "c04fd2e7-3042-4642-a7fb-37152fe5f174",
   "metadata": {},
   "outputs": [
    {
     "data": {
      "text/html": [
       "<div>\n",
       "<style scoped>\n",
       "    .dataframe tbody tr th:only-of-type {\n",
       "        vertical-align: middle;\n",
       "    }\n",
       "\n",
       "    .dataframe tbody tr th {\n",
       "        vertical-align: top;\n",
       "    }\n",
       "\n",
       "    .dataframe thead th {\n",
       "        text-align: right;\n",
       "    }\n",
       "</style>\n",
       "<table border=\"1\" class=\"dataframe\">\n",
       "  <thead>\n",
       "    <tr style=\"text-align: right;\">\n",
       "      <th></th>\n",
       "      <th>Mileage</th>\n",
       "      <th>Premium</th>\n",
       "    </tr>\n",
       "  </thead>\n",
       "  <tbody>\n",
       "    <tr>\n",
       "      <th>0</th>\n",
       "      <td>15.0</td>\n",
       "      <td>392.5</td>\n",
       "    </tr>\n",
       "    <tr>\n",
       "      <th>1</th>\n",
       "      <td>14.0</td>\n",
       "      <td>46.2</td>\n",
       "    </tr>\n",
       "    <tr>\n",
       "      <th>2</th>\n",
       "      <td>17.0</td>\n",
       "      <td>15.7</td>\n",
       "    </tr>\n",
       "    <tr>\n",
       "      <th>3</th>\n",
       "      <td>10.0</td>\n",
       "      <td>422.2</td>\n",
       "    </tr>\n",
       "    <tr>\n",
       "      <th>4</th>\n",
       "      <td>7.0</td>\n",
       "      <td>119.4</td>\n",
       "    </tr>\n",
       "  </tbody>\n",
       "</table>\n",
       "</div>"
      ],
      "text/plain": [
       "   Mileage  Premium\n",
       "0     15.0    392.5\n",
       "1     14.0     46.2\n",
       "2     17.0     15.7\n",
       "3     10.0    422.2\n",
       "4      7.0    119.4"
      ]
     },
     "execution_count": 12,
     "metadata": {},
     "output_type": "execute_result"
    }
   ],
   "source": [
    "premium.head()"
   ]
  },
  {
   "cell_type": "code",
   "execution_count": 14,
   "id": "cd545559-03f6-41fa-9b49-34b5f03d04aa",
   "metadata": {},
   "outputs": [
    {
     "name": "stdout",
     "output_type": "stream",
     "text": [
      "14.164285714285715\n",
      "172.07\n"
     ]
    }
   ],
   "source": [
    "xbar=premium[\"Mileage\"].mean()\n",
    "ybar=premium[\"Premium\"].mean()\n",
    "print(xbar)\n",
    "print(ybar)"
   ]
  },
  {
   "cell_type": "code",
   "execution_count": 16,
   "id": "bd5fdd7e-3c49-494d-9662-13cf1bd1d6b3",
   "metadata": {},
   "outputs": [],
   "source": [
    "premium[\"xi-xbar\"]=premium.Mileage - xbar\n",
    "premium[\"yi-ybar\"]=premium.Premium - ybar"
   ]
  },
  {
   "cell_type": "code",
   "execution_count": 18,
   "id": "ba70d4d7-aaf7-46f0-95cf-5de7e29a1254",
   "metadata": {},
   "outputs": [
    {
     "data": {
      "text/html": [
       "<div>\n",
       "<style scoped>\n",
       "    .dataframe tbody tr th:only-of-type {\n",
       "        vertical-align: middle;\n",
       "    }\n",
       "\n",
       "    .dataframe tbody tr th {\n",
       "        vertical-align: top;\n",
       "    }\n",
       "\n",
       "    .dataframe thead th {\n",
       "        text-align: right;\n",
       "    }\n",
       "</style>\n",
       "<table border=\"1\" class=\"dataframe\">\n",
       "  <thead>\n",
       "    <tr style=\"text-align: right;\">\n",
       "      <th></th>\n",
       "      <th>Mileage</th>\n",
       "      <th>Premium</th>\n",
       "      <th>xi-xbar</th>\n",
       "      <th>yi-ybar</th>\n",
       "    </tr>\n",
       "  </thead>\n",
       "  <tbody>\n",
       "    <tr>\n",
       "      <th>0</th>\n",
       "      <td>15.0</td>\n",
       "      <td>392.5</td>\n",
       "      <td>0.835714</td>\n",
       "      <td>220.43</td>\n",
       "    </tr>\n",
       "    <tr>\n",
       "      <th>1</th>\n",
       "      <td>14.0</td>\n",
       "      <td>46.2</td>\n",
       "      <td>-0.164286</td>\n",
       "      <td>-125.87</td>\n",
       "    </tr>\n",
       "    <tr>\n",
       "      <th>2</th>\n",
       "      <td>17.0</td>\n",
       "      <td>15.7</td>\n",
       "      <td>2.835714</td>\n",
       "      <td>-156.37</td>\n",
       "    </tr>\n",
       "    <tr>\n",
       "      <th>3</th>\n",
       "      <td>10.0</td>\n",
       "      <td>422.2</td>\n",
       "      <td>-4.164286</td>\n",
       "      <td>250.13</td>\n",
       "    </tr>\n",
       "    <tr>\n",
       "      <th>4</th>\n",
       "      <td>7.0</td>\n",
       "      <td>119.4</td>\n",
       "      <td>-7.164286</td>\n",
       "      <td>-52.67</td>\n",
       "    </tr>\n",
       "  </tbody>\n",
       "</table>\n",
       "</div>"
      ],
      "text/plain": [
       "   Mileage  Premium   xi-xbar  yi-ybar\n",
       "0     15.0    392.5  0.835714   220.43\n",
       "1     14.0     46.2 -0.164286  -125.87\n",
       "2     17.0     15.7  2.835714  -156.37\n",
       "3     10.0    422.2 -4.164286   250.13\n",
       "4      7.0    119.4 -7.164286   -52.67"
      ]
     },
     "execution_count": 18,
     "metadata": {},
     "output_type": "execute_result"
    }
   ],
   "source": [
    "premium.head()"
   ]
  },
  {
   "cell_type": "code",
   "execution_count": 24,
   "id": "79da8e48-e56e-4a98-9955-4a2176b840bc",
   "metadata": {},
   "outputs": [
    {
     "name": "stdout",
     "output_type": "stream",
     "text": [
      "Slope : -7.095\n",
      "Intercept : 272.567\n"
     ]
    }
   ],
   "source": [
    "#Numerator = np.sum(xi-xbar*yi-ybar)\n",
    "numenator = np.sum(premium[\"xi-xbar\"]*premium[\"yi-ybar\"])\n",
    "\n",
    "# Denominator = np.sum(xi-xbar**2)\n",
    "denominatar = np.sum(premium[\"xi-xbar\"]**2)\n",
    "\n",
    "#slope = num/deno\n",
    "slope = numenator/denominatar\n",
    "print(\"Slope :\",np.round(slope,3))\n",
    "\n",
    "#Intercept\n",
    "intercept = ybar - slope*xbar\n",
    "print(\"Intercept :\",np.round(intercept,3))\n",
    "                "
   ]
  },
  {
   "cell_type": "code",
   "execution_count": null,
   "id": "80bbd813-8cba-4d03-9443-3088e9348025",
   "metadata": {},
   "outputs": [],
   "source": []
  }
 ],
 "metadata": {
  "kernelspec": {
   "display_name": "Python 3 (ipykernel)",
   "language": "python",
   "name": "python3"
  },
  "language_info": {
   "codemirror_mode": {
    "name": "ipython",
    "version": 3
   },
   "file_extension": ".py",
   "mimetype": "text/x-python",
   "name": "python",
   "nbconvert_exporter": "python",
   "pygments_lexer": "ipython3",
   "version": "3.11.7"
  }
 },
 "nbformat": 4,
 "nbformat_minor": 5
}
